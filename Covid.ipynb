{
  "nbformat": 4,
  "nbformat_minor": 0,
  "metadata": {
    "colab": {
      "provenance": [],
      "authorship_tag": "ABX9TyODL6dkAgYRjkV0GD7fkU+i",
      "include_colab_link": true
    },
    "kernelspec": {
      "name": "python3",
      "display_name": "Python 3"
    },
    "language_info": {
      "name": "python"
    }
  },
  "cells": [
    {
      "cell_type": "markdown",
      "metadata": {
        "id": "view-in-github",
        "colab_type": "text"
      },
      "source": [
        "<a href=\"https://colab.research.google.com/github/neenajoseph1008/neenajoseph1008/blob/main/Covid.ipynb\" target=\"_parent\"><img src=\"https://colab.research.google.com/assets/colab-badge.svg\" alt=\"Open In Colab\"/></a>"
      ]
    },
    {
      "cell_type": "code",
      "execution_count": 1,
      "metadata": {
        "colab": {
          "base_uri": "https://localhost:8080/"
        },
        "id": "j6F_DF-X9C-0",
        "outputId": "32d45d7e-510e-4a4d-827f-815f6be2abcd"
      },
      "outputs": [
        {
          "output_type": "stream",
          "name": "stdout",
          "text": [
            "Mounted at /content/drive\n"
          ]
        }
      ],
      "source": [
        "from google.colab import drive\n",
        "drive.mount('/content/drive')\n",
        "!apt-get install openjdk-8-jdk-headless -qq > /dev/null\n",
        "!wget -q !wget -q https://archive.apache.org/dist/spark/spark-3.0.0/spark-3.0.0-bin-hadoop3.2.tgz\n",
        "!tar xf spark-3.0.0-bin-hadoop3.2.tgz\n",
        "import os\n",
        "os.environ[\"JAVA_HOME\"] = \"/usr/lib/jvm/java-8-openjdk-amd64\"\n",
        "os.environ[\"SPARK_HOME\"] = \"/content/spark-3.0.0-bin-hadoop3.2\"\n",
        "!pip install -q findspark\n",
        "import findspark\n",
        "findspark.init()\n",
        "import pyspark\n",
        "from pyspark.sql import SparkSession\n",
        "spark = SparkSession.builder.getOrCreate()"
      ]
    },
    {
      "cell_type": "code",
      "source": [
        "from pyspark.sql import SparkSession\n",
        "spark = SparkSession.builder.appName(\"Covid\").getOrCreate()\n",
        "\n",
        "hospitalization_df = spark.read.csv(\"/content/hospitalizations.csv\",inferSchema=True,header=True)\n",
        "hospitalization_df.show()"
      ],
      "metadata": {
        "colab": {
          "base_uri": "https://localhost:8080/"
        },
        "id": "YVQeqt7H9lA4",
        "outputId": "631000ec-668d-4cf9-bf2d-74ee671c850a"
      },
      "execution_count": 4,
      "outputs": [
        {
          "output_type": "stream",
          "name": "stdout",
          "text": [
            "+----------+------------+-------------------------+--------------------------------+-----------------------------+---------------------------+----------------------------------+-------------------------------+-----------------------+------------------------------+---------------------------+\n",
            "|      date|location_key|new_hospitalized_patients|cumulative_hospitalized_patients|current_hospitalized_patients|new_intensive_care_patients|cumulative_intensive_care_patients|current_intensive_care_patients|new_ventilator_patients|cumulative_ventilator_patients|current_ventilator_patients|\n",
            "+----------+------------+-------------------------+--------------------------------+-----------------------------+---------------------------+----------------------------------+-------------------------------+-----------------------+------------------------------+---------------------------+\n",
            "|0022-01-10|          AR|                        0|                               0|                         null|                          0|                                 0|                           null|                   null|                          null|                       null|\n",
            "|0022-01-20|          AR|                        0|                               0|                         null|                          0|                                 0|                           null|                   null|                          null|                       null|\n",
            "|0202-03-30|          AR|                        0|                               0|                         null|                          0|                                 0|                           null|                   null|                          null|                       null|\n",
            "|0221-07-06|          AR|                        0|                               0|                         null|                          0|                                 0|                           null|                   null|                          null|                       null|\n",
            "|1202-01-07|          AR|                        0|                               0|                         null|                          0|                                 0|                           null|                   null|                          null|                       null|\n",
            "|1202-01-12|          AR|                        0|                               0|                         null|                          0|                                 0|                           null|                   null|                          null|                       null|\n",
            "|1202-10-11|          AR|                        0|                               0|                         null|                          0|                                 0|                           null|                   null|                          null|                       null|\n",
            "|1202-11-12|          AR|                        0|                               0|                         null|                          0|                                 0|                           null|                   null|                          null|                       null|\n",
            "|1961-01-21|          AR|                        0|                               0|                         null|                          0|                                 0|                           null|                   null|                          null|                       null|\n",
            "|1969-12-31|          AR|                        0|                               0|                         null|                          0|                                 0|                           null|                   null|                          null|                       null|\n",
            "|2001-01-29|          AR|                        0|                               0|                         null|                          0|                                 0|                           null|                   null|                          null|                       null|\n",
            "|2001-02-13|          AR|                        0|                               0|                         null|                          0|                                 0|                           null|                   null|                          null|                       null|\n",
            "|2002-01-07|          AR|                        0|                               0|                         null|                          0|                                 0|                           null|                   null|                          null|                       null|\n",
            "|2002-01-09|          AR|                        0|                               0|                         null|                          0|                                 0|                           null|                   null|                          null|                       null|\n",
            "|2002-01-18|          AR|                        0|                               0|                         null|                          0|                                 0|                           null|                   null|                          null|                       null|\n",
            "|2002-02-22|          AR|                        0|                               0|                         null|                          0|                                 0|                           null|                   null|                          null|                       null|\n",
            "|2002-05-27|          AR|                        0|                               0|                         null|                          0|                                 0|                           null|                   null|                          null|                       null|\n",
            "|2002-06-25|          AR|                        0|                               0|                         null|                          0|                                 0|                           null|                   null|                          null|                       null|\n",
            "|2002-06-28|          AR|                        0|                               0|                         null|                          0|                                 0|                           null|                   null|                          null|                       null|\n",
            "|2002-07-03|          AR|                        0|                               0|                         null|                          0|                                 0|                           null|                   null|                          null|                       null|\n",
            "+----------+------------+-------------------------+--------------------------------+-----------------------------+---------------------------+----------------------------------+-------------------------------+-----------------------+------------------------------+---------------------------+\n",
            "only showing top 20 rows\n",
            "\n"
          ]
        }
      ]
    },
    {
      "cell_type": "code",
      "source": [
        "#Count no of rows in hospitalization\n",
        "cnt_hospitalization = hospitalization_df.count()\n",
        "print(cnt_hospitalization)\n"
      ],
      "metadata": {
        "colab": {
          "base_uri": "https://localhost:8080/"
        },
        "id": "i4PUwpW2-GAO",
        "outputId": "99fcafd1-4e10-4785-8cea-06aacb9bf854"
      },
      "execution_count": 5,
      "outputs": [
        {
          "output_type": "stream",
          "name": "stdout",
          "text": [
            "1768485\n"
          ]
        }
      ]
    },
    {
      "cell_type": "code",
      "source": [
        "from pyspark.sql.functions import col\n",
        "#Filtering out all the rows which has null in all columns except Date column\n",
        "hospitalization_df_subset = hospitalization_df.dropna(subset=['current_hospitalized_patients','current_intensive_care_patients','new_ventilator_patients','cumulative_ventilator_patients', 'current_ventilator_patients'], how='all').filter((col('new_hospitalized_patients') != 0) & (col('cumulative_hospitalized_patients') != 0) & (col('new_intensive_care_patients') != 0) & (col('cumulative_intensive_care_patients') != 0))\n"
      ],
      "metadata": {
        "id": "-c5vfCM4BHEz"
      },
      "execution_count": 14,
      "outputs": []
    },
    {
      "cell_type": "markdown",
      "source": [],
      "metadata": {
        "id": "7VsiAPHRM3Dj"
      }
    },
    {
      "cell_type": "code",
      "source": [
        "cnt_hospitalization_df_subset = hospitalization_df_subset.count()\n",
        "print(cnt_hospitalization_df_subset)"
      ],
      "metadata": {
        "colab": {
          "base_uri": "https://localhost:8080/"
        },
        "id": "oUeb7uSeI0W0",
        "outputId": "0a838f4e-ddd9-4d70-ebb8-76bfdc41952c"
      },
      "execution_count": 15,
      "outputs": [
        {
          "output_type": "stream",
          "name": "stdout",
          "text": [
            "8109\n"
          ]
        }
      ]
    },
    {
      "cell_type": "code",
      "source": [
        "#Filtering out all the rows which has Zero in all columns except Date column"
      ],
      "metadata": {
        "id": "yAmMYYWwKHRH"
      },
      "execution_count": null,
      "outputs": []
    },
    {
      "cell_type": "code",
      "source": [
        "hospitalization_df_subset.show()"
      ],
      "metadata": {
        "colab": {
          "base_uri": "https://localhost:8080/"
        },
        "id": "H4qpCrHLKrOh",
        "outputId": "9307d536-9644-4d42-d47d-2c85d5351a94"
      },
      "execution_count": 16,
      "outputs": [
        {
          "output_type": "stream",
          "name": "stdout",
          "text": [
            "+----------+------------+-------------------------+--------------------------------+-----------------------------+---------------------------+----------------------------------+-------------------------------+-----------------------+------------------------------+---------------------------+\n",
            "|      date|location_key|new_hospitalized_patients|cumulative_hospitalized_patients|current_hospitalized_patients|new_intensive_care_patients|cumulative_intensive_care_patients|current_intensive_care_patients|new_ventilator_patients|cumulative_ventilator_patients|current_ventilator_patients|\n",
            "+----------+------------+-------------------------+--------------------------------+-----------------------------+---------------------------+----------------------------------+-------------------------------+-----------------------+------------------------------+---------------------------+\n",
            "|2020-03-20|       CH_AG|                        2|                              32|                         null|                         -2|                                 4|                           null|                     -1|                             2|                       null|\n",
            "|2020-03-23|       CH_AG|                        8|                              43|                         null|                         -1|                                 3|                           null|                      0|                             2|                       null|\n",
            "|2020-03-24|       CH_AG|                        8|                              51|                         null|                         -1|                                 2|                           null|                      0|                             2|                       null|\n",
            "|2020-03-25|       CH_AG|                        9|                              60|                         null|                          5|                                 7|                           null|                      3|                             5|                       null|\n",
            "|2020-03-26|       CH_AG|                       14|                              74|                         null|                          3|                                10|                           null|                      4|                             9|                       null|\n",
            "|2020-03-27|       CH_AG|                        5|                              79|                         null|                          2|                                12|                           null|                      1|                            10|                       null|\n",
            "|2020-03-31|       CH_AG|                        6|                             101|                         null|                         10|                                22|                           null|                      2|                            25|                       null|\n",
            "|2020-04-06|       CH_AG|                        7|                             124|                         null|                         -2|                                25|                           null|                     -2|                            24|                       null|\n",
            "|2020-04-08|       CH_AG|                        1|                             132|                         null|                         -2|                                23|                           null|                     -2|                            23|                       null|\n",
            "|2020-04-09|       CH_AG|                        3|                             135|                         null|                         -1|                                22|                           null|                     -2|                            21|                       null|\n",
            "|2020-04-14|       CH_AG|                        3|                             142|                         null|                         -1|                                22|                           null|                      1|                            22|                       null|\n",
            "|2020-04-15|       CH_AG|                        2|                             144|                         null|                         -2|                                20|                           null|                     -2|                            20|                       null|\n",
            "|2020-04-20|       CH_AG|                        1|                             149|                         null|                         -4|                                16|                           null|                     -4|                            16|                       null|\n",
            "|2020-04-21|       CH_AG|                        3|                             152|                         null|                          2|                                18|                           null|                      2|                            18|                       null|\n",
            "|2020-04-23|       CH_AG|                        3|                             155|                         null|                         -1|                                14|                           null|                     -1|                            14|                       null|\n",
            "|2020-04-28|       CH_AG|                        2|                             161|                         null|                         -3|                                12|                           null|                     -3|                            11|                       null|\n",
            "|2020-04-29|       CH_AG|                        2|                             163|                         null|                         -2|                                10|                           null|                     -2|                             9|                       null|\n",
            "|2020-05-08|       CH_AG|                        1|                             167|                         null|                         -1|                                 3|                           null|                     -1|                             3|                       null|\n",
            "|2020-05-13|       CH_AG|                        1|                             168|                         null|                         -1|                                 1|                           null|                     -1|                             1|                       null|\n",
            "|2020-07-29|       CH_AG|                        2|                             187|                         null|                          1|                                 3|                           null|                      0|                          null|                       null|\n",
            "+----------+------------+-------------------------+--------------------------------+-----------------------------+---------------------------+----------------------------------+-------------------------------+-----------------------+------------------------------+---------------------------+\n",
            "only showing top 20 rows\n",
            "\n"
          ]
        }
      ]
    }
  ]
}