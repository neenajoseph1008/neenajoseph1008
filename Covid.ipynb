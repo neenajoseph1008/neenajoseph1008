{
  "nbformat": 4,
  "nbformat_minor": 0,
  "metadata": {
    "colab": {
      "provenance": [],
      "authorship_tag": "ABX9TyPDgfoh+CwlrktW82TYrlKp",
      "include_colab_link": true
    },
    "kernelspec": {
      "name": "python3",
      "display_name": "Python 3"
    },
    "language_info": {
      "name": "python"
    }
  },
  "cells": [
    {
      "cell_type": "markdown",
      "metadata": {
        "id": "view-in-github",
        "colab_type": "text"
      },
      "source": [
        "<a href=\"https://colab.research.google.com/github/neenajoseph1008/neenajoseph1008/blob/main/Covid.ipynb\" target=\"_parent\"><img src=\"https://colab.research.google.com/assets/colab-badge.svg\" alt=\"Open In Colab\"/></a>"
      ]
    },
    {
      "cell_type": "code",
      "execution_count": 1,
      "metadata": {
        "colab": {
          "base_uri": "https://localhost:8080/"
        },
        "id": "j6F_DF-X9C-0",
        "outputId": "32d45d7e-510e-4a4d-827f-815f6be2abcd"
      },
      "outputs": [
        {
          "output_type": "stream",
          "name": "stdout",
          "text": [
            "Mounted at /content/drive\n"
          ]
        }
      ],
      "source": [
        "from google.colab import drive\n",
        "drive.mount('/content/drive')\n",
        "!apt-get install openjdk-8-jdk-headless -qq > /dev/null\n",
        "!wget -q !wget -q https://archive.apache.org/dist/spark/spark-3.0.0/spark-3.0.0-bin-hadoop3.2.tgz\n",
        "!tar xf spark-3.0.0-bin-hadoop3.2.tgz\n",
        "import os\n",
        "os.environ[\"JAVA_HOME\"] = \"/usr/lib/jvm/java-8-openjdk-amd64\"\n",
        "os.environ[\"SPARK_HOME\"] = \"/content/spark-3.0.0-bin-hadoop3.2\"\n",
        "!pip install -q findspark\n",
        "import findspark\n",
        "findspark.init()\n",
        "import pyspark\n",
        "from pyspark.sql import SparkSession\n",
        "spark = SparkSession.builder.getOrCreate()"
      ]
    },
    {
      "cell_type": "code",
      "source": [
        "from pyspark.sql import SparkSession\n",
        "spark = SparkSession.builder.appName(\"Covid\").getOrCreate()\n",
        "\n",
        "hospitalization_df = spark.read.csv(\"/content/hospitalizations.csv\",inferSchema=True,header=True)\n",
        "hospitalization_df.show()"
      ],
      "metadata": {
        "colab": {
          "base_uri": "https://localhost:8080/"
        },
        "id": "YVQeqt7H9lA4",
        "outputId": "631000ec-668d-4cf9-bf2d-74ee671c850a"
      },
      "execution_count": 4,
      "outputs": [
        {
          "output_type": "stream",
          "name": "stdout",
          "text": [
            "+----------+------------+-------------------------+--------------------------------+-----------------------------+---------------------------+----------------------------------+-------------------------------+-----------------------+------------------------------+---------------------------+\n",
            "|      date|location_key|new_hospitalized_patients|cumulative_hospitalized_patients|current_hospitalized_patients|new_intensive_care_patients|cumulative_intensive_care_patients|current_intensive_care_patients|new_ventilator_patients|cumulative_ventilator_patients|current_ventilator_patients|\n",
            "+----------+------------+-------------------------+--------------------------------+-----------------------------+---------------------------+----------------------------------+-------------------------------+-----------------------+------------------------------+---------------------------+\n",
            "|0022-01-10|          AR|                        0|                               0|                         null|                          0|                                 0|                           null|                   null|                          null|                       null|\n",
            "|0022-01-20|          AR|                        0|                               0|                         null|                          0|                                 0|                           null|                   null|                          null|                       null|\n",
            "|0202-03-30|          AR|                        0|                               0|                         null|                          0|                                 0|                           null|                   null|                          null|                       null|\n",
            "|0221-07-06|          AR|                        0|                               0|                         null|                          0|                                 0|                           null|                   null|                          null|                       null|\n",
            "|1202-01-07|          AR|                        0|                               0|                         null|                          0|                                 0|                           null|                   null|                          null|                       null|\n",
            "|1202-01-12|          AR|                        0|                               0|                         null|                          0|                                 0|                           null|                   null|                          null|                       null|\n",
            "|1202-10-11|          AR|                        0|                               0|                         null|                          0|                                 0|                           null|                   null|                          null|                       null|\n",
            "|1202-11-12|          AR|                        0|                               0|                         null|                          0|                                 0|                           null|                   null|                          null|                       null|\n",
            "|1961-01-21|          AR|                        0|                               0|                         null|                          0|                                 0|                           null|                   null|                          null|                       null|\n",
            "|1969-12-31|          AR|                        0|                               0|                         null|                          0|                                 0|                           null|                   null|                          null|                       null|\n",
            "|2001-01-29|          AR|                        0|                               0|                         null|                          0|                                 0|                           null|                   null|                          null|                       null|\n",
            "|2001-02-13|          AR|                        0|                               0|                         null|                          0|                                 0|                           null|                   null|                          null|                       null|\n",
            "|2002-01-07|          AR|                        0|                               0|                         null|                          0|                                 0|                           null|                   null|                          null|                       null|\n",
            "|2002-01-09|          AR|                        0|                               0|                         null|                          0|                                 0|                           null|                   null|                          null|                       null|\n",
            "|2002-01-18|          AR|                        0|                               0|                         null|                          0|                                 0|                           null|                   null|                          null|                       null|\n",
            "|2002-02-22|          AR|                        0|                               0|                         null|                          0|                                 0|                           null|                   null|                          null|                       null|\n",
            "|2002-05-27|          AR|                        0|                               0|                         null|                          0|                                 0|                           null|                   null|                          null|                       null|\n",
            "|2002-06-25|          AR|                        0|                               0|                         null|                          0|                                 0|                           null|                   null|                          null|                       null|\n",
            "|2002-06-28|          AR|                        0|                               0|                         null|                          0|                                 0|                           null|                   null|                          null|                       null|\n",
            "|2002-07-03|          AR|                        0|                               0|                         null|                          0|                                 0|                           null|                   null|                          null|                       null|\n",
            "+----------+------------+-------------------------+--------------------------------+-----------------------------+---------------------------+----------------------------------+-------------------------------+-----------------------+------------------------------+---------------------------+\n",
            "only showing top 20 rows\n",
            "\n"
          ]
        }
      ]
    },
    {
      "cell_type": "code",
      "source": [
        "#Count no of rows in hospitalization\n",
        "cnt_hospitalization = hospitalization_df.count()\n",
        "print(cnt_hospitalization)\n"
      ],
      "metadata": {
        "colab": {
          "base_uri": "https://localhost:8080/"
        },
        "id": "i4PUwpW2-GAO",
        "outputId": "99fcafd1-4e10-4785-8cea-06aacb9bf854"
      },
      "execution_count": 5,
      "outputs": [
        {
          "output_type": "stream",
          "name": "stdout",
          "text": [
            "1768485\n"
          ]
        }
      ]
    },
    {
      "cell_type": "code",
      "source": [
        "#Filtering out all the rows which has null or zero in all columns except Date column"
      ],
      "metadata": {
        "id": "-c5vfCM4BHEz"
      },
      "execution_count": null,
      "outputs": []
    }
  ]
}